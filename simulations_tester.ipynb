{
 "cells": [
  {
   "cell_type": "markdown",
   "metadata": {},
   "source": [
    "## Notebook to test functions\n"
   ]
  },
  {
   "cell_type": "code",
   "execution_count": 12,
   "metadata": {},
   "outputs": [],
   "source": [
    "import simulation_processes.simulator as sim"
   ]
  },
  {
   "cell_type": "code",
   "execution_count": 13,
   "metadata": {},
   "outputs": [],
   "source": [
    "from algorithms.neighbours import neighbours"
   ]
  },
  {
   "cell_type": "code",
   "execution_count": 17,
   "metadata": {},
   "outputs": [],
   "source": [
    "depth = 2\n",
    "number_of_witnesses_per_depth = [2, 2, 2]\n",
    "threshold = 1.0\n",
    "\n",
    "prob_honest = 0.6\n",
    "prob_coerced = 0.5\n",
    "\n",
    "\n",
    "environment_size = [(0, 2), (0, 2)]\n",
    "number_of_cars = 3000\n",
    "\n",
    "width = environment_size[0][1] - environment_size[0][0]\n",
    "height = environment_size[1][1] - environment_size[1][0]\n",
    "density = number_of_cars / (width * height)\n",
    "\n",
    "number_of_simulations = 1\n",
    "\n",
    "car_list = sim.car_generator(prob_coerced, prob_honest, environment_size, number_of_cars)"
   ]
  },
  {
   "cell_type": "code",
   "execution_count": 26,
   "metadata": {},
   "outputs": [],
   "source": [
    "neighbours_dict = neighbours(car_list[5], car_list)"
   ]
  },
  {
   "cell_type": "code",
   "execution_count": null,
   "metadata": {},
   "outputs": [],
   "source": [
    "neighbours_dict"
   ]
  },
  {
   "cell_type": "code",
   "execution_count": 18,
   "metadata": {},
   "outputs": [],
   "source": [
    "sim_df = sim.simulator(number_of_simulations, prob_coerced, prob_honest, depth,\n",
    "                    car_list, number_of_witnesses_per_depth, density, threshold)"
   ]
  },
  {
   "cell_type": "code",
   "execution_count": 19,
   "metadata": {},
   "outputs": [
    {
     "data": {
      "text/html": [
       "<div>\n",
       "<style scoped>\n",
       "    .dataframe tbody tr th:only-of-type {\n",
       "        vertical-align: middle;\n",
       "    }\n",
       "\n",
       "    .dataframe tbody tr th {\n",
       "        vertical-align: top;\n",
       "    }\n",
       "\n",
       "    .dataframe thead th {\n",
       "        text-align: right;\n",
       "    }\n",
       "</style>\n",
       "<table border=\"1\" class=\"dataframe\">\n",
       "  <thead>\n",
       "    <tr style=\"text-align: right;\">\n",
       "      <th></th>\n",
       "      <th>Simulation number</th>\n",
       "      <th>Probability of honest cars</th>\n",
       "      <th>Probability of coerced cars</th>\n",
       "      <th>Density</th>\n",
       "      <th>Threshold</th>\n",
       "      <th>Accuracy</th>\n",
       "      <th>True Positives</th>\n",
       "      <th>True Negatives</th>\n",
       "      <th>False Positives</th>\n",
       "      <th>False Negatives</th>\n",
       "      <th>Percent True Positives</th>\n",
       "      <th>Percent True Negatives</th>\n",
       "      <th>Percent False Positives</th>\n",
       "      <th>Percent False Negatives</th>\n",
       "    </tr>\n",
       "  </thead>\n",
       "  <tbody>\n",
       "    <tr>\n",
       "      <th>0</th>\n",
       "      <td>0</td>\n",
       "      <td>0.6</td>\n",
       "      <td>0.5</td>\n",
       "      <td>750.0</td>\n",
       "      <td>1.0</td>\n",
       "      <td>58.166667</td>\n",
       "      <td>1609</td>\n",
       "      <td>136</td>\n",
       "      <td>1057</td>\n",
       "      <td>198</td>\n",
       "      <td>89.042612</td>\n",
       "      <td>11.399832</td>\n",
       "      <td>10.957388</td>\n",
       "      <td>88.600168</td>\n",
       "    </tr>\n",
       "  </tbody>\n",
       "</table>\n",
       "</div>"
      ],
      "text/plain": [
       "   Simulation number  Probability of honest cars  Probability of coerced cars  \\\n",
       "0                  0                         0.6                          0.5   \n",
       "\n",
       "   Density  Threshold   Accuracy  True Positives  True Negatives  \\\n",
       "0    750.0        1.0  58.166667            1609             136   \n",
       "\n",
       "   False Positives  False Negatives  Percent True Positives  \\\n",
       "0             1057              198               89.042612   \n",
       "\n",
       "   Percent True Negatives  Percent False Positives  Percent False Negatives  \n",
       "0               11.399832                10.957388                88.600168  "
      ]
     },
     "execution_count": 19,
     "metadata": {},
     "output_type": "execute_result"
    }
   ],
   "source": [
    "sim_df"
   ]
  },
  {
   "cell_type": "code",
   "execution_count": 10,
   "metadata": {},
   "outputs": [],
   "source": [
    "tree = sim.Tree(car_list[1], depth, number_of_witnesses_per_depth, car_list)"
   ]
  },
  {
   "cell_type": "code",
   "execution_count": 11,
   "metadata": {},
   "outputs": [
    {
     "data": {
      "text/plain": [
       "[[<components.car.Car at 0x10ea10610>],\n",
       " [<components.car.Car at 0x10ef4f2e0>,\n",
       "  <components.car.Car at 0x10ee2c610>,\n",
       "  <components.car.Car at 0x10eb28760>,\n",
       "  <components.car.Car at 0x10ec1f310>,\n",
       "  <components.car.Car at 0x10ec1f3d0>,\n",
       "  <components.car.Car at 0x10eed06d0>]]"
      ]
     },
     "execution_count": 11,
     "metadata": {},
     "output_type": "execute_result"
    }
   ],
   "source": [
    "tree.nodes"
   ]
  },
  {
   "cell_type": "code",
   "execution_count": null,
   "metadata": {},
   "outputs": [],
   "source": [
    "sim.TPoP(tree, threshold, number_of_witnesses_per_depth, car_list)"
   ]
  },
  {
   "cell_type": "code",
   "execution_count": null,
   "metadata": {},
   "outputs": [],
   "source": [
    "print(car_list[1].algorithm_honesty_output)\n",
    "print(car_list[1].honest)"
   ]
  },
  {
   "cell_type": "code",
   "execution_count": null,
   "metadata": {},
   "outputs": [],
   "source": [
    "#if the area of the range of sight is a circle, and the radius is 0.1 currently, that means the area is 0.031units approx\n",
    "#current density is 750 cars per 1 unit. \n",
    "#number of cars in range of sight is 24cars = 0.031 * 750"
   ]
  }
 ],
 "metadata": {
  "kernelspec": {
   "display_name": "Python 3",
   "language": "python",
   "name": "python3"
  },
  "language_info": {
   "codemirror_mode": {
    "name": "ipython",
    "version": 3
   },
   "file_extension": ".py",
   "mimetype": "text/x-python",
   "name": "python",
   "nbconvert_exporter": "python",
   "pygments_lexer": "ipython3",
   "version": "3.9.15"
  }
 },
 "nbformat": 4,
 "nbformat_minor": 2
}
